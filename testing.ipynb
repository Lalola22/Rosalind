{
 "cells": [
  {
   "cell_type": "markdown",
   "metadata": {},
   "source": [
    "The Secondary and Tertiary Structures of DNA\n",
    "Problem\n",
    "In DNA strings, symbols 'A' and 'T' are complements of each other, as are 'C' and 'G'.\n",
    "\n",
    "The reverse complement of a DNA string s is the string sc formed by reversing the symbols of s, then taking the complement of each symbol (e.g., the reverse complement of \"GTCA\" is \"TGAC\").\n",
    "\n",
    "Given: A DNA string s of length at most 1000 bp.\n",
    "\n",
    "Return: The reverse complement sc of s.\n",
    "\n",
    "Sample Dataset\n",
    "AAAACCCGGT\n",
    "Sample Output\n",
    "ACCGGGTTTT\n",
    "\n",
    "\n"
   ]
  },
  {
   "cell_type": "code",
   "execution_count": 35,
   "metadata": {},
   "outputs": [],
   "source": [
    "DNA = \"AAAACCCGGT\"\n",
    "\n"
   ]
  },
  {
   "cell_type": "code",
   "execution_count": 25,
   "metadata": {},
   "outputs": [],
   "source": [
    "reverse = DNA[-1::-1]\n"
   ]
  },
  {
   "cell_type": "code",
   "execution_count": 32,
   "metadata": {},
   "outputs": [
    {
     "name": "stdout",
     "output_type": "stream",
     "text": [
      "ACCCCCAAAA\n"
     ]
    }
   ],
   "source": [
    "complement = reverse.replace(\"A\", \"T\")\n",
    "complement1 = complement.replace(\"C\", \"G\")\n",
    "complement2 = complement1.replace(\"G\", \"C\")\n",
    "complement3 = complement2.replace(\"T\", \"A\")\n",
    "print(complement3)\n"
   ]
  },
  {
   "cell_type": "code",
   "execution_count": 17,
   "metadata": {},
   "outputs": [
    {
     "name": "stdout",
     "output_type": "stream",
     "text": [
      "Help on method_descriptor:\n",
      "\n",
      "replace(...)\n",
      "    S.replace(old, new[, count]) -> str\n",
      "    \n",
      "    Return a copy of S with all occurrences of substring\n",
      "    old replaced by new.  If the optional argument count is\n",
      "    given, only the first count occurrences are replaced.\n",
      "\n"
     ]
    }
   ],
   "source": [
    "help(str.replace)"
   ]
  },
  {
   "cell_type": "code",
   "execution_count": 21,
   "metadata": {},
   "outputs": [
    {
     "data": {
      "text/plain": [
       "'ACCCCCAAAA'"
      ]
     },
     "execution_count": 21,
     "metadata": {},
     "output_type": "execute_result"
    }
   ],
   "source": [
    "complement"
   ]
  },
  {
   "cell_type": "code",
   "execution_count": null,
   "metadata": {},
   "outputs": [],
   "source": [
    "AAAACCCGGT"
   ]
  },
  {
   "cell_type": "code",
   "execution_count": 47,
   "metadata": {},
   "outputs": [
    {
     "name": "stdout",
     "output_type": "stream",
     "text": [
      "AGTATCGACGGTCCCTCCCGTATGCCTTCAGGTCTGTCCAACGAGTTGTCTTACCACCGTTGAAGATCGGAAGGTTTAAGCCACATGGGCAAGATTCGGGTCTTCCCCAATATGTGAGGTTGAGGGCCATTAGACAGCACAATCTGCGGGTTTTTTTCTGACTATACATCGTCAGGGCGTCTGAGTAAGTTGTACCGTTATGAGCTGTGTCAACAGCAAGGCCATCATAAAGTGGTAGAATGCCATTTACAACAACCAACAACATCTATCGGCTGACCATCAAATTAGATTCATGGTAGTGAACTCCATCCACTGTTGTAGTCGAAAGGTGCCGGAACGTCAGCTTTTAGGCTATCACTAGTAGTCATGCACCTGCAATTATAAAACGGTGGGCGCGGAAGAGGAGTAACGTAGAATGCTGGCCCTAAAACAAATTGACCGCGGAGGGGAGGCCTTTGCAGTCGCACGGCTTCCCACGCACCGGCCACCATTATCTCGTGTATGTCATTCGAGTGGATATTTCTCACACTCTCTACGAGATGTAGTGAGGCTGGAAGCCTCCGGGCCTCCCAGCTTTAATATGCATGACGTTGCCTCCACCGGAAGTTGTGTACCTCAGTGAACCCGTTCTTCGACACGACACTACTCCTCGTGCGAAATATAAGGTGCTCTTCCCTTTGTCGTTAGGCTGCCCATCTAGATGTCGCCACTATCTAACGGCGCCACTTTCGTTGATCTGCAACGTAAGTATAGTCCCACGGACAACAAGGTCGGACTCCGAACTCTGTTGCTAGGCATAACATAACTCGGACAAACAAGGGGTAAAGACATGGCGCAGCTCGAGACACATGAGTTGAGTTTTATGTTAATGTCCAGACAAGCACTGACCAGCTTATTCTGGTAGTTTGAACTCACACGGGGCCCTACATGCGGCACCCAGGATTTCGCACTATACCTATCTATACAA\n"
     ]
    }
   ],
   "source": [
    "complement = \"\" \n",
    "for base in DNA:\n",
    "    if base is \"A\":\n",
    "        base = \"T\"\n",
    "        complement = complement + base\n",
    "    elif base is \"C\":\n",
    "        base = \"G\"\n",
    "        complement = complement + base\n",
    "    elif base is \"G\":\n",
    "        base = \"C\"\n",
    "        complement = complement + base\n",
    "    elif base is \"T\":\n",
    "        base = \"A\"\n",
    "        complement = complement + base\n",
    "reverse = complement[-1::-1]\n",
    "print(reverse)"
   ]
  },
  {
   "cell_type": "code",
   "execution_count": 46,
   "metadata": {},
   "outputs": [],
   "source": [
    "DNA = \"TTGTATAGATAGGTATAGTGCGAAATCCTGGGTGCCGCATGTAGGGCCCCGTGTGAGTTCAAACTACCAGAATAAGCTGGTCAGTGCTTGTCTGGACATTAACATAAAACTCAACTCATGTGTCTCGAGCTGCGCCATGTCTTTACCCCTTGTTTGTCCGAGTTATGTTATGCCTAGCAACAGAGTTCGGAGTCCGACCTTGTTGTCCGTGGGACTATACTTACGTTGCAGATCAACGAAAGTGGCGCCGTTAGATAGTGGCGACATCTAGATGGGCAGCCTAACGACAAAGGGAAGAGCACCTTATATTTCGCACGAGGAGTAGTGTCGTGTCGAAGAACGGGTTCACTGAGGTACACAACTTCCGGTGGAGGCAACGTCATGCATATTAAAGCTGGGAGGCCCGGAGGCTTCCAGCCTCACTACATCTCGTAGAGAGTGTGAGAAATATCCACTCGAATGACATACACGAGATAATGGTGGCCGGTGCGTGGGAAGCCGTGCGACTGCAAAGGCCTCCCCTCCGCGGTCAATTTGTTTTAGGGCCAGCATTCTACGTTACTCCTCTTCCGCGCCCACCGTTTTATAATTGCAGGTGCATGACTACTAGTGATAGCCTAAAAGCTGACGTTCCGGCACCTTTCGACTACAACAGTGGATGGAGTTCACTACCATGAATCTAATTTGATGGTCAGCCGATAGATGTTGTTGGTTGTTGTAAATGGCATTCTACCACTTTATGATGGCCTTGCTGTTGACACAGCTCATAACGGTACAACTTACTCAGACGCCCTGACGATGTATAGTCAGAAAAAAACCCGCAGATTGTGCTGTCTAATGGCCCTCAACCTCACATATTGGGGAAGACCCGAATCTTGCCCATGTGGCTTAAACCTTCCGATCTTCAACGGTGGTAAGACAACTCGTTGGACAGACCTGAAGGCATACGGGAGGGACCGTCGATACT\""
   ]
  },
  {
   "cell_type": "code",
   "execution_count": null,
   "metadata": {},
   "outputs": [],
   "source": []
  }
 ],
 "metadata": {
  "kernelspec": {
   "display_name": "Python 3",
   "language": "python",
   "name": "python3"
  },
  "language_info": {
   "codemirror_mode": {
    "name": "ipython",
    "version": 3
   },
   "file_extension": ".py",
   "mimetype": "text/x-python",
   "name": "python",
   "nbconvert_exporter": "python",
   "pygments_lexer": "ipython3",
   "version": "3.6.4"
  }
 },
 "nbformat": 4,
 "nbformat_minor": 2
}
